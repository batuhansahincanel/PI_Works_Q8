{
  "nbformat": 4,
  "nbformat_minor": 0,
  "metadata": {
    "colab": {
      "name": "question8.ipynb",
      "provenance": [],
      "collapsed_sections": [],
      "authorship_tag": "ABX9TyP3k+9MrQrPLulX2S235WhL",
      "include_colab_link": true
    },
    "kernelspec": {
      "name": "python3",
      "display_name": "Python 3"
    },
    "language_info": {
      "name": "python"
    }
  },
  "cells": [
    {
      "cell_type": "markdown",
      "metadata": {
        "id": "view-in-github",
        "colab_type": "text"
      },
      "source": [
        "<a href=\"https://colab.research.google.com/github/batuhansahincanel/PI_Works_Q8/blob/main/question8.ipynb\" target=\"_parent\"><img src=\"https://colab.research.google.com/assets/colab-badge.svg\" alt=\"Open In Colab\"/></a>"
      ]
    },
    {
      "cell_type": "markdown",
      "source": [
        "#Question 8-)"
      ],
      "metadata": {
        "id": "KPp3w-4_A8hn"
      }
    },
    {
      "cell_type": "code",
      "execution_count": 1,
      "metadata": {
        "colab": {
          "base_uri": "https://localhost:8080/"
        },
        "id": "HStfM3rnA5rN",
        "outputId": "79c8a8de-9eac-4bba-a127-61890a02ef07"
      },
      "outputs": [
        {
          "output_type": "stream",
          "name": "stdout",
          "text": [
            "['xcd32112.smart_meter.com', 'tXh67.dia_meter.com', 'yT5495.smart_meter.com', 'ret323_TRu.crown.com', 'luwr3243.celcius.com']\n"
          ]
        }
      ],
      "source": [
        "import pandas as pd\n",
        "import numpy as np\n",
        "import xml.etree.ElementTree as ET\n",
        "df = {\"Device_Type\":[\"AXO145\",\"TRU151\",\"ZOD231\",\"YRT326\",\"LWR245\"], \n",
        "      \"Stats_Access_Link\":[\"<url>https://xcd32112.smart_meter.com</url>\",\n",
        "                           \"<url>https://tXh67.dia_meter.com</url>\",\n",
        "                           \"<url>https://yT5495.smart_meter.com</url>\",\n",
        "                           \"<url>https://ret323_TRu.crown.com</url>\",\n",
        "                           \"<url>https://luwr3243.celcius.com</url>\"] }\n",
        "\n",
        "df = pd.DataFrame(df)\n",
        "url = pd.DataFrame()\n",
        "url = df[\"Stats_Access_Link\"].copy()\n",
        "url.dtype\n",
        "url.str.lower()\n",
        "url = pd.DataFrame(data=url)\n",
        "\n",
        "string = '''\n",
        "'''\n",
        "pure_url = \"\"\n",
        "li_url = list()\n",
        "\n",
        "for ind, rows in url.iterrows():\n",
        "    string = url[\"Stats_Access_Link\"][ind]\n",
        "    tree = ET.fromstring(string)\n",
        "    pure_url = tree.text\n",
        "    pure_url = pure_url.replace(\"https://\",\"\")\n",
        "    li_url.append(pure_url)\n",
        "\n",
        "print(li_url)\n",
        "    "
      ]
    }
  ]
}